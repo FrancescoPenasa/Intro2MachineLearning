{
 "cells": [
  {
   "cell_type": "markdown",
   "metadata": {},
   "source": [
    "## Exercise 12\n",
    "\n",
    "Given a 2-dimensional dataset like data1.csv, data2.csv or data3.csv, implement and apply k-means hard clustering with k = 2 and k = 3. Use the Euclidean distance as dissimilarity metric. At each training iteration of the algorithm, compute the quantization error and plot data points and centroids with a different color for each cluster.\n"
   ]
  },
  {
   "cell_type": "code",
   "execution_count": 2,
   "metadata": {},
   "outputs": [],
   "source": [
    "import numpy as np\n",
    "import pandas as pd\n",
    "import matplotlib.pyplot as plt\n",
    "import math"
   ]
  },
  {
   "cell_type": "code",
   "execution_count": 70,
   "metadata": {},
   "outputs": [],
   "source": [
    "frame = pd.read_csv(\"data1.csv\")"
   ]
  },
  {
   "cell_type": "code",
   "execution_count": 71,
   "metadata": {},
   "outputs": [],
   "source": [
    "k = 3"
   ]
  },
  {
   "cell_type": "code",
   "execution_count": 182,
   "metadata": {},
   "outputs": [
    {
     "name": "stdout",
     "output_type": "stream",
     "text": [
      "     x   y  tag\n",
      "37  49  41   -1\n",
      "12  14  17   -1\n",
      "72  88  40   -1\n",
      "           x          y  tag\n",
      "0  50.321429  54.071429  0.0\n",
      "1  17.230769  22.512821  1.0\n",
      "2  85.969697  67.212121  2.0\n",
      "           x          y  tag\n",
      "0  50.833333  56.083333  0.0\n",
      "1  19.190476  22.023810  1.0\n",
      "2  85.058824  68.794118  2.0\n"
     ]
    }
   ],
   "source": [
    "def k_means(k, df):\n",
    "    x = df[\"x\"]\n",
    "    y = df[\"y\"]\n",
    "    tag = [-1]*len(df)\n",
    "    newlist = list(zip(x,y,tag))\n",
    "    frame = pd.DataFrame(data = newlist, columns=['x', 'y', 'tag'])\n",
    "    \n",
    "    #init centroid\n",
    "    np.random.seed(1)\n",
    "    centroids = frame.iloc[np.random.randint(0, len(frame)-1, k)]\n",
    "    print(centroids)\n",
    "    \n",
    "    # assign nearest point to a prototype\n",
    "    for i in range(len(frame)):\n",
    "        mn = np.inf\n",
    "        point = frame.iloc[i]\n",
    "        for index in range(len(centroids)):\n",
    "            distance = np.abs(np.linalg.norm(point-centroids.iloc[index]))\n",
    "            if (distance < mn):\n",
    "                frame.iloc[i][-1] = index\n",
    "                mn = distance\n",
    "    \n",
    "    \n",
    "    # find new centroid\n",
    "    tmp = []\n",
    "    for centroid in range(len(centroids)):\n",
    "        mask = frame['tag'] == centroid\n",
    "        avg = np.sum(frame[mask])\n",
    "        avg = avg / len(frame[mask])\n",
    "        tmp.append(avg)\n",
    "    \n",
    "    centroids = pd.DataFrame(data = tmp, columns=['x', 'y', 'tag'])\n",
    "    print(centroids)\n",
    "    \n",
    "    \n",
    "    # assign nearest point to a prototype\n",
    "    for i in range(len(frame)):\n",
    "        mn = np.inf\n",
    "        point = frame.iloc[i]\n",
    "        for index in range(len(centroids)):\n",
    "            distance = np.abs(np.linalg.norm(point-centroids.iloc[index]))\n",
    "            if (distance < mn):\n",
    "                frame.iloc[i][-1] = index\n",
    "                mn = distance\n",
    "    \n",
    "    \n",
    "    # find new centroid\n",
    "    tmp = []\n",
    "    for centroid in range(len(centroids)):\n",
    "        mask = frame['tag'] == centroid\n",
    "        avg = np.sum(frame[mask])\n",
    "        avg = avg / len(frame[mask])\n",
    "        tmp.append(avg) \n",
    "        \n",
    "    centroids = pd.DataFrame(data = tmp, columns=['x', 'y', 'tag'])\n",
    "    print(centroids)    \n",
    "k_means(k, frame)"
   ]
  },
  {
   "cell_type": "code",
   "execution_count": null,
   "metadata": {},
   "outputs": [],
   "source": []
  },
  {
   "cell_type": "code",
   "execution_count": null,
   "metadata": {},
   "outputs": [],
   "source": []
  },
  {
   "cell_type": "code",
   "execution_count": null,
   "metadata": {},
   "outputs": [],
   "source": []
  },
  {
   "cell_type": "code",
   "execution_count": null,
   "metadata": {},
   "outputs": [],
   "source": []
  },
  {
   "cell_type": "markdown",
   "metadata": {},
   "source": [
    "## Exercise 13\n",
    "\n",
    "Implement k-means soft clustering with online update, adopting the Euclidean distance as dissimilarity metric. Given the dataset data3.csv, apply the algorithm using $k = 3$ and $\\eta = 0.1$ until the algorithm converges. As initial centroids use $x_{32}, x_{33}, x_{123}$, where the subscripts define the indexes of the points in the dataset. After convergence of the algorithm, compute the membership of $x_{10}$ with respect to each centroid and also plot the dataset using different colors for $x_{10}, x_{32}, x_{33}, x_{123}$."
   ]
  },
  {
   "cell_type": "code",
   "execution_count": null,
   "metadata": {},
   "outputs": [],
   "source": []
  }
 ],
 "metadata": {
  "kernelspec": {
   "display_name": "Python 3",
   "language": "python",
   "name": "python3"
  },
  "language_info": {
   "codemirror_mode": {
    "name": "ipython",
    "version": 3
   },
   "file_extension": ".py",
   "mimetype": "text/x-python",
   "name": "python",
   "nbconvert_exporter": "python",
   "pygments_lexer": "ipython3",
   "version": "3.7.3"
  }
 },
 "nbformat": 4,
 "nbformat_minor": 2
}
