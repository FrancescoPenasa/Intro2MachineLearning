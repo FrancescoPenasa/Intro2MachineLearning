{
 "cells": [
  {
   "cell_type": "markdown",
   "metadata": {},
   "source": [
    "# Exercises\n",
    "## import"
   ]
  },
  {
   "cell_type": "code",
   "execution_count": 1,
   "metadata": {},
   "outputs": [],
   "source": [
    "#!/usr/bin/env python3\n",
    "# -*- coding: utf-8 -*-\n",
    "\n",
    "import sys\n",
    "import math\n",
    "import pandas as pd\n",
    "import numpy as np\n",
    "import matplotlib.pyplot as plt\n",
    "from mpl_toolkits.mplot3d.axes3d import Axes3D\n"
   ]
  },
  {
   "cell_type": "markdown",
   "metadata": {},
   "source": [
    "### EXERCISE 1:\n",
    "Given a list of integers, without using any package or built-in function, compute and print:\n",
    " - mean of the list\n",
    " - number of negative and positive numbers in the list\n",
    " - two lists that contain positives and negatives in the original list"
   ]
  },
  {
   "cell_type": "code",
   "execution_count": 2,
   "metadata": {},
   "outputs": [],
   "source": [
    "\"\"\"\n",
    "Created on Tue Feb 19 08:59:26 2019\n",
    "@author: francesco\n",
    "\"\"\"\n",
    "\n",
    "input = [-2,2,-3,3,10]"
   ]
  },
  {
   "cell_type": "markdown",
   "metadata": {},
   "source": [
    "##### mean of the list"
   ]
  },
  {
   "cell_type": "code",
   "execution_count": 16,
   "metadata": {},
   "outputs": [
    {
     "data": {
      "text/plain": [
       "2.0"
      ]
     },
     "execution_count": 16,
     "metadata": {},
     "output_type": "execute_result"
    }
   ],
   "source": [
    "def mean_of_list(list):\n",
    "    tot = 0\n",
    "    tot = np.sum(list)\n",
    "    return tot/len(list)\n",
    "\n",
    "mean_of_list(input)\n"
   ]
  },
  {
   "cell_type": "markdown",
   "metadata": {},
   "source": [
    "##### number of negative and positive numbers in the list"
   ]
  },
  {
   "cell_type": "code",
   "execution_count": 17,
   "metadata": {},
   "outputs": [
    {
     "data": {
      "text/plain": [
       "(3, 2)"
      ]
     },
     "execution_count": 17,
     "metadata": {},
     "output_type": "execute_result"
    }
   ],
   "source": [
    "def signs_of_list(list):\n",
    "    positive = negative = 0\n",
    "    for n in list:\n",
    "        if n >= 0:\n",
    "            positive += 1\n",
    "        else:\n",
    "            negative += 1\n",
    "    return positive, negative\n",
    "\n",
    "signs_of_list(input)"
   ]
  },
  {
   "cell_type": "markdown",
   "metadata": {},
   "source": [
    "##### two lists that contain positives and negatives in the original list"
   ]
  },
  {
   "cell_type": "code",
   "execution_count": 3,
   "metadata": {},
   "outputs": [
    {
     "data": {
      "text/plain": [
       "([2, 3, 10], [-2, -3])"
      ]
     },
     "execution_count": 3,
     "metadata": {},
     "output_type": "execute_result"
    }
   ],
   "source": [
    "def signedList_of_list(list):\n",
    "    positive = []\n",
    "    negative = []\n",
    "    for n in input:\n",
    "        if n >= 0:\n",
    "            positive.append(n)\n",
    "        else:\n",
    "            negative.append(n)\n",
    "    return positive,negative\n",
    "\n",
    "signedList_of_list(input)"
   ]
  },
  {
   "cell_type": "markdown",
   "metadata": {},
   "source": [
    "### EXERCISE 2:\n",
    "Given a list of integers, without using any package or built-in function, compute and print:\n",
    " - a dictionary where:\n",
    " - keys are unique numbers contained in the list\n",
    " - values count the occurrencies of unique numbers in the list\n",
    "TIP: you can use dictionary functions\n"
   ]
  },
  {
   "cell_type": "code",
   "execution_count": 5,
   "metadata": {},
   "outputs": [
    {
     "name": "stdout",
     "output_type": "stream",
     "text": [
      "{1: 3, 2: 4, 3: 4, 4: 2}\n"
     ]
    }
   ],
   "source": [
    "\"\"\"\n",
    "Created on Tue Feb 19 08:59:26 2019\n",
    "\n",
    "@author: francesco\n",
    "\"\"\"\n",
    "input = [1,2,3,4,2,3,1,2,3,4,2,1,3]\n",
    "\n",
    "def create_dict(list):\n",
    "    dict = {}\n",
    "    for n in list:\n",
    "        if n in dict.keys():    #keys are unique numbers contained in the list\n",
    "            dict[n] += 1\n",
    "        else:                   #values count the occurrencies of unique numbers in the list\n",
    "            dict[n] = 1\n",
    "    return dict\n",
    "\n",
    "print(create_dict(input)"
   ]
  },
  {
   "cell_type": "markdown",
   "metadata": {},
   "source": [
    "### EXERCISE 3:\n",
    "Given an unordered list of numbers, without using any package or built-in function, define functions to (and print results):\n",
    "\n",
    "- swap the values of two elements in the list\n",
    "- order ascendently the list\n",
    "- find mean and median of the list\n"
   ]
  },
  {
   "cell_type": "code",
   "execution_count": null,
   "metadata": {},
   "outputs": [],
   "source": [
    "\"\"\"\n",
    "Created on Tue Feb 19 09:37:34 2019\n",
    "\n",
    "@author: francesco\n",
    "\"\"\"\n",
    "\n",
    "input = [30,10,40,20,50]"
   ]
  },
  {
   "cell_type": "markdown",
   "metadata": {},
   "source": [
    "##### swap the values of two elements in the list"
   ]
  },
  {
   "cell_type": "code",
   "execution_count": null,
   "metadata": {},
   "outputs": [],
   "source": [
    "#swap the values of two elements in the list\n",
    "def swap(list, x, y):\n",
    "    \"\"\"swap two elements of a list\"\"\"\n",
    "    index_x = list.index(x)\n",
    "    index_y = list.index(y)\n",
    "    list[index_x] = y\n",
    "    list[index_y] = x    \n",
    "    \n",
    "\n"
   ]
  },
  {
   "cell_type": "markdown",
   "metadata": {},
   "source": [
    "##### order ascendently the list\n"
   ]
  },
  {
   "cell_type": "code",
   "execution_count": null,
   "metadata": {},
   "outputs": [],
   "source": [
    "#order ascendently the list\n",
    "def sort_ascendently(list):\n",
    "    \"\"\"sort a list and reverse it\"\"\"\n",
    "    list.sort();\n",
    "    list.reverse();\n",
    "    \n",
    "\n",
    "\n"
   ]
  },
  {
   "cell_type": "markdown",
   "metadata": {},
   "source": [
    "##### values count the occurrencies of unique numbers in the list"
   ]
  },
  {
   "cell_type": "code",
   "execution_count": null,
   "metadata": {},
   "outputs": [],
   "source": [
    "#find mean and median of the lis\n",
    "def find_mean(list):\n",
    "    \"\"\"find the mean in a list\"\"\"\n",
    "    tot = 0\n",
    "    for n in list:\n",
    "        tot += n\n",
    "    return tot/len(list)\n",
    "\n",
    "def find_median(list):\n",
    "    \"\"\"find the median in a list\"\"\"\n",
    "    if(len(list) % 2 == 0):\n",
    "        median_index = len(list)//2 + 1 \n",
    "    else:\n",
    "        median_index = len(list)//2\n",
    "    return list[median_index]\n",
    "\n",
    "#swap the values of two elements in the list\n",
    "print(input)\n",
    "swap(input, 10, 40)\n",
    "print(input)   \n",
    "\n",
    "\n",
    "#order ascendently the list    \n",
    "print(input)   \n",
    "sort_ascendently(input)\n",
    "print(input)   \n",
    "\n",
    "    \n",
    "#find mean and median of the lis\n",
    "print(input)\n",
    "print(find_mean(input))\n",
    "print(find_median(input))"
   ]
  },
  {
   "cell_type": "code",
   "execution_count": null,
   "metadata": {},
   "outputs": [],
   "source": []
  },
  {
   "cell_type": "code",
   "execution_count": null,
   "metadata": {},
   "outputs": [],
   "source": []
  },
  {
   "cell_type": "code",
   "execution_count": null,
   "metadata": {},
   "outputs": [],
   "source": []
  },
  {
   "cell_type": "code",
   "execution_count": null,
   "metadata": {},
   "outputs": [],
   "source": []
  },
  {
   "cell_type": "code",
   "execution_count": null,
   "metadata": {},
   "outputs": [],
   "source": []
  },
  {
   "cell_type": "code",
   "execution_count": null,
   "metadata": {},
   "outputs": [],
   "source": []
  }
 ],
 "metadata": {
  "kernelspec": {
   "display_name": "Python 3",
   "language": "python",
   "name": "python3"
  },
  "language_info": {
   "codemirror_mode": {
    "name": "ipython",
    "version": 3
   },
   "file_extension": ".py",
   "mimetype": "text/x-python",
   "name": "python",
   "nbconvert_exporter": "python",
   "pygments_lexer": "ipython3",
   "version": "3.7.1"
  }
 },
 "nbformat": 4,
 "nbformat_minor": 2
}
