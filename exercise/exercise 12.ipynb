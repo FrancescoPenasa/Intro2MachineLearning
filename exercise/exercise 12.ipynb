{
 "cells": [
  {
   "cell_type": "markdown",
   "metadata": {},
   "source": [
    "## Exercise 12\n",
    "\n",
    "Given a 2-dimensional dataset like data1.csv, data2.csv or data3.csv, implement and apply k-means hard clustering with k = 2 and k = 3. Use the Euclidean distance as dissimilarity metric. At each training iteration of the algorithm, compute the quantization error and plot data points and centroids with a different color for each cluster.\n"
   ]
  },
  {
   "cell_type": "code",
   "execution_count": 69,
   "metadata": {},
   "outputs": [],
   "source": [
    "import numpy as np\n",
    "import pandas as pd\n",
    "import matplotlib.pyplot as plt\n",
    "import math"
   ]
  },
  {
   "cell_type": "code",
   "execution_count": 70,
   "metadata": {},
   "outputs": [
    {
     "name": "stdout",
     "output_type": "stream",
     "text": [
      "     x   y\n",
      "0    8  49\n",
      "1   24  30\n",
      "2    3  48\n",
      "3   39  47\n",
      "4   23  39\n",
      "5   15  45\n",
      "6   48  38\n",
      "7   10  44\n",
      "8   30  18\n",
      "9   34   0\n",
      "10   2  34\n",
      "11  34  10\n",
      "12  14  17\n",
      "13  34   8\n",
      "14  49  13\n",
      "15  48  42\n",
      "16  24  30\n",
      "17  15  17\n",
      "18  36   4\n",
      "19  43  40\n",
      "20  16  27\n",
      "21   9  27\n",
      "22  29  19\n",
      "23  22  14\n",
      "24   2   0\n",
      "25  27  13\n",
      "26  44  12\n",
      "27   4  42\n",
      "28  31   3\n",
      "29   1   6\n",
      "..  ..  ..\n",
      "70  49  93\n",
      "71  88  97\n",
      "72  88  40\n",
      "73  61  49\n",
      "74  65  80\n",
      "75  94  94\n",
      "76  46  68\n",
      "77  77  42\n",
      "78  78  56\n",
      "79  98  45\n",
      "80  92  91\n",
      "81  98  66\n",
      "82  79  74\n",
      "83  83  43\n",
      "84  70  70\n",
      "85  91  54\n",
      "86  70  94\n",
      "87  97  53\n",
      "88  42  60\n",
      "89  91  41\n",
      "90  64  54\n",
      "91  95  91\n",
      "92  57  73\n",
      "93  85  60\n",
      "94  77  80\n",
      "95  65  64\n",
      "96  85  69\n",
      "97  75  98\n",
      "98  56  68\n",
      "99  52  58\n",
      "\n",
      "[100 rows x 2 columns]\n"
     ]
    }
   ],
   "source": [
    "frame = pd.read_csv(\"data1.csv\")"
   ]
  },
  {
   "cell_type": "code",
   "execution_count": 71,
   "metadata": {},
   "outputs": [],
   "source": [
    "k = 3"
   ]
  },
  {
   "cell_type": "code",
   "execution_count": 72,
   "metadata": {},
   "outputs": [],
   "source": [
    "def plot(frame, k, prototype):\n",
    "    for i in range(k):\n",
    "        proto = prototype.iloc[i]\n",
    "        mask = frame['tag'] == i\n",
    "        elem = (frame[mask])\n",
    "        plt.plot(proto['x'], proto['y'], 'o', markersize=14, label=[elem['tag']])\n",
    "        plt.plot(elem['x'], elem['y'], 'o', label=[elem['tag']])\n",
    "    plt.show()"
   ]
  },
  {
   "cell_type": "code",
   "execution_count": 73,
   "metadata": {},
   "outputs": [],
   "source": [
    "np.random.seed(1)"
   ]
  },
  {
   "cell_type": "code",
   "execution_count": 74,
   "metadata": {},
   "outputs": [],
   "source": [
    "def norm_cal(x,y):\n",
    "    return math.sqrt(x**2 + y**2)"
   ]
  },
  {
   "cell_type": "code",
   "execution_count": 80,
   "metadata": {},
   "outputs": [],
   "source": [
    "def k_means(k, df, delta):\n",
    "    x = df[\"x\"]\n",
    "    y = df[\"y\"]\n",
    "    tag = [-1]*len(df)\n",
    "    newlist = list(zip(x,y,tag))\n",
    "    frame = pd.DataFrame(data = newlist, columns=['x', 'y', 'tag'])\n",
    "    \n",
    "    #init centroid\n",
    "    centroids = frame.iloc[np.random.randint(0, len(frame)-1, k)]\n",
    "    \n",
    "    \n",
    "    exit_boolean = True\n",
    "    \n",
    "    while exit_boolean:\n",
    "        # assign nearest point to a prototype\n",
    "        for i in range(len(frame)):\n",
    "            mn = np.inf\n",
    "            point = frame.iloc[i]\n",
    "            for index in range(len(centroids)):\n",
    "                distance = np.abs(np.linalg.norm(point-centroids.iloc[index]))\n",
    "                if (distance < mn):\n",
    "                    frame.iloc[i][-1] = index\n",
    "                    mn = distance\n",
    "\n",
    "        # print time\n",
    "        plot(frame, k, centroids)\n",
    "        \n",
    "        # find new centroid\n",
    "        tmp = []\n",
    "        for centroid in range(len(centroids)):\n",
    "            mask = frame['tag'] == centroid\n",
    "            avg = np.sum(frame[mask])\n",
    "            avg = avg / len(frame[mask])\n",
    "            tmp.append(avg)\n",
    "        tmpcentroids = pd.DataFrame(data = tmp, columns=['x', 'y', 'tag'])\n",
    "\n",
    "        # exit option\n",
    "        quantization_error = 0\n",
    "        for i in range (k):\n",
    "            c = centroids.iloc[i]\n",
    "            t = tmpcentroids.iloc[i]\n",
    "            c = norm_cal(c['x'], c['y'])\n",
    "            t = norm_cal(t['x'], t['y'])\n",
    "            quantization_error = math.pow(c - t, 2)\n",
    "        print(quantization_error)\n",
    "        centroids = tmpcentroids\n",
    "        if (quantization_error  < delta):\n",
    "            exit_boolean = 0\n",
    "        "
   ]
  },
  {
   "cell_type": "code",
   "execution_count": 82,
   "metadata": {},
   "outputs": [
    {
     "data": {
      "image/png": "[encoded data removed]",
      "text/plain": [
       "<Figure size 432x288 with 1 Axes>"
      ]
     },
     "metadata": {
      "needs_background": "light"
     },
     "output_type": "display_data"
    },
    {
     "name": "stdout",
     "output_type": "stream",
     "text": [
      "2.232091955613364\n"
     ]
    },
    {
     "data": {
      "image/png": "[encoded data removed]",
      "text/plain": [
       "<Figure size 432x288 with 1 Axes>"
      ]
     },
     "metadata": {
      "needs_background": "light"
     },
     "output_type": "display_data"
    },
    {
     "name": "stdout",
     "output_type": "stream",
     "text": [
      "0.5462037306090122\n"
     ]
    },
    {
     "data": {
      "image/png": "[encoded data removed]",
      "text/plain": [
       "<Figure size 432x288 with 1 Axes>"
      ]
     },
     "metadata": {
      "needs_background": "light"
     },
     "output_type": "display_data"
    },
    {
     "name": "stdout",
     "output_type": "stream",
     "text": [
      "0.0\n"
     ]
    }
   ],
   "source": [
    "k_means(k, frame, 0.5)"
   ]
  },
  {
   "cell_type": "code",
   "execution_count": 83,
   "metadata": {},
   "outputs": [
    {
     "data": {
      "image/png": "[encoded data removed]",
      "text/plain": [
       "<Figure size 432x288 with 1 Axes>"
      ]
     },
     "metadata": {
      "needs_background": "light"
     },
     "output_type": "display_data"
    },
    {
     "name": "stdout",
     "output_type": "stream",
     "text": [
      "22.67663490027507\n"
     ]
    },
    {
     "data": {
      "image/png": "[encoded data removed]",
      "text/plain": [
       "<Figure size 432x288 with 1 Axes>"
      ]
     },
     "metadata": {
      "needs_background": "light"
     },
     "output_type": "display_data"
    },
    {
     "name": "stdout",
     "output_type": "stream",
     "text": [
      "2.0393752855059613\n"
     ]
    },
    {
     "data": {
      "image/png": "[encoded data removed]",
      "text/plain": [
       "<Figure size 432x288 with 1 Axes>"
      ]
     },
     "metadata": {
      "needs_background": "light"
     },
     "output_type": "display_data"
    },
    {
     "name": "stdout",
     "output_type": "stream",
     "text": [
      "0.0\n"
     ]
    }
   ],
   "source": [
    "k_means(2, frame, 0.1)"
   ]
  },
  {
   "cell_type": "code",
   "execution_count": null,
   "metadata": {},
   "outputs": [],
   "source": []
  },
  {
   "cell_type": "code",
   "execution_count": null,
   "metadata": {},
   "outputs": [],
   "source": []
  },
  {
   "cell_type": "code",
   "execution_count": null,
   "metadata": {},
   "outputs": [],
   "source": []
  },
  {
   "cell_type": "code",
   "execution_count": null,
   "metadata": {},
   "outputs": [],
   "source": []
  }
 ],
 "metadata": {
  "kernelspec": {
   "display_name": "Python 3",
   "language": "python",
   "name": "python3"
  },
  "language_info": {
   "codemirror_mode": {
    "name": "ipython",
    "version": 3
   },
   "file_extension": ".py",
   "mimetype": "text/x-python",
   "name": "python",
   "nbconvert_exporter": "python",
   "pygments_lexer": "ipython3",
   "version": "3.7.3"
  }
 },
 "nbformat": 4,
 "nbformat_minor": 2
}
