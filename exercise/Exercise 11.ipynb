{
 "cells": [
  {
   "cell_type": "markdown",
   "metadata": {},
   "source": [
    "# Exercise 11"
   ]
  },
  {
   "cell_type": "markdown",
   "metadata": {},
   "source": [
    "Given the iris dataset, split the dataset into training and test set; use 90% of data for training and 10% for testing. Implement least squares linear regression, using the pseudo-inverse to find the weights that minimize the linear model, in order to predict the PetalWidth using the PetalLength. In order to assess the performance of the model, compute the root mean square error on the test set. Then create a scatter plot of the data points in the two given dimensions, plotting with different colors the points belonging to the training or the test set. Also, plot the line that you have found by applying linear regression.\n",
    "\n",
    "TIPS:\n",
    "* you can use pandas.Dataframe.sample and pandas.Dataframe.drop to split the dataset\n",
    "* to compute the pseudo-inverse of the linear system, you can use scipy.solve or define directly matrix operations using numpy operators\n",
    "* you should obtain a plot similar to the following"
   ]
  },
  {
   "cell_type": "markdown",
   "metadata": {},
   "source": [
    "### imports"
   ]
  },
  {
   "cell_type": "code",
   "execution_count": 1,
   "metadata": {},
   "outputs": [],
   "source": [
    "import pandas as pd\n",
    "import numpy as np\n",
    "import matplotlib.pyplot as plt\n",
    "import math\n",
    "import sys"
   ]
  },
  {
   "cell_type": "markdown",
   "metadata": {},
   "source": [
    "### import iris dataset and split it in 90% for training and 10% for testing"
   ]
  },
  {
   "cell_type": "code",
   "execution_count": 2,
   "metadata": {},
   "outputs": [],
   "source": [
    "frame = pd.read_csv(\"iris.data\", names = [\"SepalLength\",\"SepalWidth\",\"PetalLength\",\"PetalWidth\",\"Class\"])\n",
    "train_sample = frame.sample(frac=0.9)\n",
    "mask = [True]*frame.shape[0]\n",
    "for i in train_sample.index:\n",
    "    mask[i] = False    \n",
    "test_sample = frame[mask]"
   ]
  },
  {
   "cell_type": "code",
   "execution_count": 24,
   "metadata": {},
   "outputs": [],
   "source": [
    "def least_square_linear_regression(X, y):\n",
    "    \"\"\"\n",
    "    Return the optimal weights arrey using the pseudo inversa.\n",
    "    \"\"\"     \n",
    "    w = np.linalg.inv(X.T.dot(X)).dot(X.T).dot(y)\n",
    "    \n",
    "    return w\n",
    "    \n",
    "X = np.matrix(train_sample[\"PetalLength\"]).T\n",
    "y = np.array(train_sample[\"PetalWidth\"])\n",
    "\n",
    "weights = least_square_linear_regression(X, y)"
   ]
  },
  {
   "cell_type": "code",
   "execution_count": 25,
   "metadata": {},
   "outputs": [
    {
     "data": {
      "text/plain": [
       "2.8795679650355828"
      ]
     },
     "execution_count": 25,
     "metadata": {},
     "output_type": "execute_result"
    }
   ],
   "source": [
    "def predict(data, w):\n",
    "    \"\"\"\n",
    "    Predict output of data with the weights w.\n",
    "    \"\"\"     \n",
    "    y = []\n",
    "    for n in data:\n",
    "        y.append(n*w)\n",
    "    return y\n",
    "\n",
    "data = np.array(test_sample[\"PetalLength\"])\n",
    "predictions = predict(data, weights)\n",
    "\n",
    "\n",
    "def compute_RMS(truth, predictions):\n",
    "    \"\"\"\n",
    "    Compute the root mean square between real values and predictions.\n",
    "    \"\"\"     \n",
    "    RMS = 0\n",
    "    for i in range(len(truth)):\n",
    "        RMS += math.pow(truth[i] - predictions[i], 2) \n",
    "    RMS = RMS/len(truth)\n",
    "    RMS = math.sqrt(RMS)\n",
    "    return RMS\n",
    "\n",
    "compute_RMS(np.array(test_sample[\"PetalLength\"]), predictions)"
   ]
  },
  {
   "cell_type": "markdown",
   "metadata": {},
   "source": [
    "### plot time"
   ]
  },
  {
   "cell_type": "code",
   "execution_count": 27,
   "metadata": {},
   "outputs": [
    {
     "data": {
      "image/png": "[encoded data removed]",
      "text/plain": [
       "<Figure size 432x288 with 1 Axes>"
      ]
     },
     "metadata": {
      "needs_background": "light"
     },
     "output_type": "display_data"
    }
   ],
   "source": [
    "def plot_pairs(train_sample, test_sample, pairs, line):\n",
    "    \"\"\"\n",
    "    Plot the frame with different label based on the sample.\n",
    "    \"\"\"       \n",
    "    \n",
    "    x_label = pairs[0]\n",
    "    y_label = pairs[1]\n",
    "        \n",
    "    #train sample\n",
    "    x = train_sample[x_label]\n",
    "    y = train_sample[y_label]\n",
    "    plt.title(x_label+\"-\"+y_label)\n",
    "    plt.xlabel(x_label)\n",
    "    plt.ylabel(y_label)\n",
    "    plt.plot(x, y, 'o', label=\"Train\")\n",
    "    \n",
    "    #test sample\n",
    "    x = test_sample[x_label]\n",
    "    y = test_sample[y_label]\n",
    "    plt.title(x_label+\"-\"+y_label)\n",
    "    plt.xlabel(x_label)\n",
    "    plt.ylabel(y_label)\n",
    "    plt.plot(x, y, 'o', label=\"Test\")\n",
    "    \n",
    "    #linear\n",
    "    plt.plot(line[0], line[1], color='red')\n",
    "        \n",
    "    plt.grid(True)\n",
    "    plt.legend()\n",
    "    plt.show()\n",
    "    \n",
    "\n",
    "plot_pairs(train_sample, test_sample, [\"PetalLength\", \"PetalWidth\"], [X, X.dot(weights)])"
   ]
  },
  {
   "cell_type": "code",
   "execution_count": null,
   "metadata": {},
   "outputs": [],
   "source": []
  }
 ],
 "metadata": {
  "kernelspec": {
   "display_name": "Python 3",
   "language": "python",
   "name": "python3"
  },
  "language_info": {
   "codemirror_mode": {
    "name": "ipython",
    "version": 3
   },
   "file_extension": ".py",
   "mimetype": "text/x-python",
   "name": "python",
   "nbconvert_exporter": "python",
   "pygments_lexer": "ipython3",
   "version": "3.7.1"
  }
 },
 "nbformat": 4,
 "nbformat_minor": 2
}
