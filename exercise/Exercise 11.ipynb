{
 "cells": [
  {
   "cell_type": "markdown",
   "metadata": {},
   "source": [
    "# Exercise 11"
   ]
  },
  {
   "cell_type": "markdown",
   "metadata": {},
   "source": [
    "Given the iris dataset, split the dataset into training and test set; use 90% of data for training and 10% for testing. Implement least squares linear regression, using the pseudo-inverse to find the weights that minimize the linear model, in order to predict the PetalWidth using the PetalLength. In order to assess the performance of the model, compute the root mean square error on the test set. Then create a scatter plot of the data points in the two given dimensions, plotting with different colors the points belonging to the training or the test set. Also, plot the line that you have found by applying linear regression.\n",
    "\n",
    "TIPS:\n",
    "* you can use pandas.Dataframe.sample and pandas.Dataframe.drop to split the dataset\n",
    "* to compute the pseudo-inverse of the linear system, you can use scipy.solve or define directly matrix operations using numpy operators\n",
    "* you should obtain a plot similar to the following"
   ]
  },
  {
   "cell_type": "markdown",
   "metadata": {},
   "source": [
    "### imports"
   ]
  },
  {
   "cell_type": "code",
   "execution_count": 2,
   "metadata": {},
   "outputs": [],
   "source": [
    "import pandas as pd\n",
    "import math\n",
    "import numpy as np\n",
    "from scipy import linalg\n",
    "import matplotlib.pyplot as plt\n",
    "from mpl_toolkits.mplot3d.axes3d import Axes3D\n",
    "import sys"
   ]
  },
  {
   "cell_type": "code",
   "execution_count": 3,
   "metadata": {},
   "outputs": [],
   "source": [
    "### import iris dataset and split it in 90% for training and 10% for testing"
   ]
  },
  {
   "cell_type": "code",
   "execution_count": 4,
   "metadata": {},
   "outputs": [],
   "source": [
    "frame = pd.read_csv(\"iris.data\", names = [\"SepalLength\",\"SepalWidth\",\"PetalLength\",\"PetalWidth\",\"Class\"])\n",
    "train_sample = frame.sample(frac=0.9)\n",
    "mask = [True]*frame.shape[0]\n",
    "for i in train_sample.index:\n",
    "    mask[i] = False    \n",
    "test_sample = frame[mask]"
   ]
  },
  {
   "cell_type": "code",
   "execution_count": 28,
   "metadata": {},
   "outputs": [],
   "source": [
    "def least_square_linear_regression(data):\n",
    "    X = data[0] #n x 1\n",
    "    y = data[1] #n x 1\n",
    "    X = X.reshape((len(X), 1))   #1 x n\n",
    "    \n",
    "    w = np.linalg.inv(X.T.dot(X)).dot(X.T).dot(y)\n",
    "    return w,X,X.dot(w)\n",
    "    \n",
    "data = np.array(train_sample[\"PetalLength\"])\n",
    "data = data,np.array(train_sample[\"PetalWidth\"])\n",
    "\n",
    "weights, X, yhat = least_square_linear_regression(data)"
   ]
  },
  {
   "cell_type": "code",
   "execution_count": 29,
   "metadata": {},
   "outputs": [
    {
     "data": {
      "text/plain": [
       "2.416214890781499"
      ]
     },
     "execution_count": 29,
     "metadata": {},
     "output_type": "execute_result"
    }
   ],
   "source": [
    "def predict(data, w):\n",
    "    y = []\n",
    "    for n in data:\n",
    "        y.append(n*w)\n",
    "    return y\n",
    "\n",
    "data = np.array(test_sample[\"PetalLength\"])\n",
    "predictions = predict(data, weights)\n",
    "\n",
    "\n",
    "def compute_RMS(truth, predictions):\n",
    "    RMS = 0\n",
    "    for i in range(len(truth)):\n",
    "        RMS += math.pow(truth[i] - predictions[i], 2) \n",
    "    RMS = RMS/len(truth)\n",
    "    RMS = math.sqrt(RMS)\n",
    "    return RMS\n",
    "\n",
    "compute_RMS(np.array(test_sample[\"PetalLength\"]), predictions)"
   ]
  },
  {
   "cell_type": "code",
   "execution_count": 31,
   "metadata": {},
   "outputs": [],
   "source": [
    "### plot time"
   ]
  },
  {
   "cell_type": "code",
   "execution_count": 30,
   "metadata": {},
   "outputs": [
    {
     "data": {
      "image/png": "[encoded data removed]",
      "text/plain": [
       "<Figure size 432x288 with 1 Axes>"
      ]
     },
     "metadata": {
      "needs_background": "light"
     },
     "output_type": "display_data"
    }
   ],
   "source": [
    "def plot_pairs(sample0, sample1, pairs, linear):\n",
    "    \"\"\"\n",
    "    Plot the frame with different label based on the sample.\n",
    "    \"\"\"       \n",
    "    \n",
    "    x_label = pairs[0]\n",
    "    y_label = pairs[1]\n",
    "        \n",
    "    x = sample0[x_label]\n",
    "    y = sample0[y_label]\n",
    "    plt.title(x_label+\"-\"+y_label)\n",
    "    plt.xlabel(x_label)\n",
    "    plt.ylabel(y_label)\n",
    "    plt.plot(x, y, 'o', label=\"Train\")\n",
    "    \n",
    "    x = sample1[x_label]\n",
    "    y = sample1[y_label]\n",
    "    plt.title(x_label+\"-\"+y_label)\n",
    "    plt.xlabel(x_label)\n",
    "    plt.ylabel(y_label)\n",
    "    plt.plot(x, y, 'o', label=\"Test\")\n",
    "    \n",
    "    plt.plot(linear[0], linear[1], color='red')\n",
    "        \n",
    "    plt.grid(True)\n",
    "    plt.legend()\n",
    "    plt.show()\n",
    "\n",
    "plot_pairs(train_sample, test_sample, [\"PetalLength\", \"PetalWidth\"], [X, yhat])"
   ]
  },
  {
   "cell_type": "code",
   "execution_count": null,
   "metadata": {},
   "outputs": [],
   "source": []
  }
 ],
 "metadata": {
  "kernelspec": {
   "display_name": "Python 3",
   "language": "python",
   "name": "python3"
  },
  "language_info": {
   "codemirror_mode": {
    "name": "ipython",
    "version": 3
   },
   "file_extension": ".py",
   "mimetype": "text/x-python",
   "name": "python",
   "nbconvert_exporter": "python",
   "pygments_lexer": "ipython3",
   "version": "3.7.1"
  }
 },
 "nbformat": 4,
 "nbformat_minor": 2
}
