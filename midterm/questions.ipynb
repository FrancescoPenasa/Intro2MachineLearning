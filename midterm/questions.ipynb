{
 "cells": [
  {
   "cell_type": "markdown",
   "metadata": {},
   "source": [
    "https://marconi.disi.unitn.it/exam/view/\n",
    "\n",
    "user student \n",
    "\n",
    "pw esame2019\n",
    "\n",
    "student ID:1248"
   ]
  },
  {
   "cell_type": "markdown",
   "metadata": {},
   "source": [
    "The entropy of a uniform probability distribution of n events is log2n.\n",
    "> TRUE\n",
    "\n",
    "The use of Chi-square test to deny statistical independence means that, for example, a term in a phrase should not be used as a feature because the square of the number of nearest neighbors is too large.\n",
    "> FALSE\n",
    "\n",
    "The Pearson correlation coefficient measures the linear relationship between numeric data features.\n",
    "> TRUE\n",
    "//pearson correlation considers only linear functions to see the relationship between features (so features can have a a exponential relation but pearson will not be able to see it)\n",
    "\n",
    "\n",
    "The measurements of two phenomena are different in a statistically significant way if one can demonstrate in a theorem that the two measurements will never be equal\n",
    "> FALSE\n",
    "\n",
    "Logistic regression is the application of regression analysis in the area of logistics.\n",
    "> FALSE\n",
    "\n",
    "\n",
    "If w are weights of logistic regression, Pr() is the output and yi the correct classification (0 or 1), the probability of obtaining the given output on the examples assuming independency is: \n",
    "Likelihood(w)=∑(i=1,l) = Pr(yi|xi,w)yi+(1−Pr(yi|xi,w))(1−yi).\n",
    "> FALSE\n",
    "\n",
    "A scalar product x^t*y between two vectors is a model for a neuron in which x and y are two different input vectors.\n",
    "> FALSE\n",
    "\n",
    "Maximum likelihood estimation of parameters means that one maximizes the probability of obtaining a small cross-validation between inputs and outputs.\n",
    "> FALSE\n",
    "\n",
    "The points satisfying the inequality 66 x1 + 99 x2 > 33 do not form a convex set.\n",
    "> FALSE\n",
    "\n",
    "The function f(x)=7 + 3 x1 + 999 x2 is linear.\n",
    "> FALSE\n",
    "\n",
    "The roots of the equation 66 x1 + 99 x2 = 0 form a convex set\n",
    "> TRUE\n",
    "\n",
    "f(x) = w1x1x2 + w2x2x3 + w3x3x4 + w4x^24\n",
    "> TRUE\n",
    "\n",
    "A logistic function determines the threshold according to which the output of a linear model is classified\n",
    "> FALSE\n",
    "\n",
    "(1/n)∑(i=1,n) |yi−f(xi)|\n",
    "> TRUE\n",
    "\n",
    "If the number of different points is larger than the number of dimensions, the solution of the linear system can be found by computing the inverse of the matrix.\n",
    "> FALSE\n"
   ]
  }
 ],
 "metadata": {
  "kernelspec": {
   "display_name": "Python 3",
   "language": "python",
   "name": "python3"
  },
  "language_info": {
   "codemirror_mode": {
    "name": "ipython",
    "version": 3
   },
   "file_extension": ".py",
   "mimetype": "text/x-python",
   "name": "python",
   "nbconvert_exporter": "python",
   "pygments_lexer": "ipython3",
   "version": "3.7.1"
  }
 },
 "nbformat": 4,
 "nbformat_minor": 2
}
