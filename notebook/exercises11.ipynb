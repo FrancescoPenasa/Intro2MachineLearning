{
 "cells": [
  {
   "cell_type": "markdown",
   "metadata": {},
   "source": [
    "## Exercise 8"
   ]
  },
  {
   "cell_type": "markdown",
   "metadata": {},
   "source": [
    "Given the two spirals dataset CSV file, create a 2-dimensional scatter plot of the spirals, using a different color for each spiral. Then apply the k-nearest neighbors algorithm to all the elements of the dataset using k $\\in$ {3, 5, 10} and compute precision, accuracy and recall.\n",
    "\n",
    "TIPS:\n",
    "* consider spiral 1 as the positive class\n",
    "* when evaluating, do not include the point you are predicting in the neighbors (this would be cheating)"
   ]
  },
  {
   "cell_type": "markdown",
   "metadata": {},
   "source": [
    "## Exercise 9"
   ]
  },
  {
   "cell_type": "markdown",
   "metadata": {},
   "source": [
    "Given the iris dataset CSV file, apply the k-nearest neighbors algorithm to all the elements of the dataset using k $\\in$ {3, 5, 10, 20} and build the confusion matrix. Using the confusion matrix, compute total precision, total accuracy and total recall.\n",
    "\n",
    "TIPS:\n",
    "\n",
    "* total metrics correspond to the average of the relative metric computed on the elements of each class\n",
    "* when evaluating, do not include the point you are predicting in the neighbors (this would be cheating)"
   ]
  },
  {
   "cell_type": "markdown",
   "metadata": {},
   "source": [
    "## Exercise 10"
   ]
  },
  {
   "cell_type": "markdown",
   "metadata": {},
   "source": [
    "Given the iris dataset, create 3-d scatter plots in order to plot two dimensions of the points against one of the other two numerical dimensions (remember exercise 7? Choose the pair of dimensions you consider to be most suitable for applying k-nearest neighbors). Explore the two plots; do you see any relevant difference?\n",
    "\n",
    "Then, create a function to predict the value of the third dimensions using the weighted k-neighbors algorithm. Apply the algorithm to all the elements of the dataset using k = {3, 5, 10} and compute the root mean square (RMS) error.\n",
    "\n",
    "TIPS:\n",
    "* to explore the plots, remember from the Spider tutorial that you can use `%matplotlib qt` and `%matplotlib inline` commands to switch between interactive and inline visualization modes\n",
    "* when evaluating, do not include the point you are predicting in the neighbors (this would be cheating)"
   ]
  }
 ],
 "metadata": {
  "kernelspec": {
   "display_name": "Python 3",
   "language": "python",
   "name": "python3"
  },
  "language_info": {
   "codemirror_mode": {
    "name": "ipython",
    "version": 3
   },
   "file_extension": ".py",
   "mimetype": "text/x-python",
   "name": "python",
   "nbconvert_exporter": "python",
   "pygments_lexer": "ipython3",
   "version": "3.7.1"
  }
 },
 "nbformat": 4,
 "nbformat_minor": 2
}
