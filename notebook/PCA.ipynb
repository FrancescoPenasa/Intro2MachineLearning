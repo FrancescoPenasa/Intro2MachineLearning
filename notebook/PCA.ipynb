{
 "cells": [
  {
   "cell_type": "markdown",
   "metadata": {},
   "source": [
    "## Principal Component Analysis (PCA)"
   ]
  },
  {
   "cell_type": "markdown",
   "metadata": {},
   "source": [
    "Author: Manuel Dalcastagnè. This work is licensed under a CC Attribution 3.0 Unported license (http://creativecommons.org/licenses/by/3.0/)."
   ]
  },
  {
   "cell_type": "markdown",
   "metadata": {},
   "source": [
    "## PCA outline\n",
    "* Standardize data and compute the covariance matrix of data\n",
    "* Determine eigenvectors and eigenvalues of the covariance matrix\n",
    "* Find the principal $k$ components of data, which are eigenvectors found in the previous step with largest eigenvalues, where $k$ is the number of dimensions in the new space and must be lower or equal with respect to the number of dimensions in the original space\n",
    "* Construct the projection matrix using the principal $k$ components\n",
    "* Project the original data in the reduced space using the projection matrix"
   ]
  },
  {
   "cell_type": "markdown",
   "metadata": {},
   "source": [
    "### Exercise 14\n",
    "\n",
    "Given the iris dataset, apply PCA with $k=2$ and plot projected data.\n",
    "\n",
    "TIP:\n",
    "* at https://plot.ly/ipython-notebooks/principal-component-analysis/, you can find many tips to build the solution"
   ]
  }
 ],
 "metadata": {
  "kernelspec": {
   "display_name": "Python 3",
   "language": "python",
   "name": "python3"
  },
  "language_info": {
   "codemirror_mode": {
    "name": "ipython",
    "version": 3
   },
   "file_extension": ".py",
   "mimetype": "text/x-python",
   "name": "python",
   "nbconvert_exporter": "python",
   "pygments_lexer": "ipython3",
   "version": "3.7.3"
  }
 },
 "nbformat": 4,
 "nbformat_minor": 2
}
